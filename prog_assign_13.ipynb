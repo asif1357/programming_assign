{
 "cells": [
  {
   "cell_type": "code",
   "execution_count": 1,
   "id": "b89071e1",
   "metadata": {},
   "outputs": [
    {
     "name": "stdout",
     "output_type": "stream",
     "text": [
      "enter values for D : \n",
      "None100,150,180\n",
      "18\n",
      "22\n",
      "24\n"
     ]
    }
   ],
   "source": [
    "#pro_1\n",
    "\n",
    "import math\n",
    "C,H=50,30\n",
    "strg=input(print(\"enter values for D : \"))\n",
    "lst=strg.split(',')\n",
    "result=[]\n",
    "for i in lst:\n",
    "    Q=math.floor(math.sqrt((2*C*int(i))/H))\n",
    "    result.append(Q)\n",
    "for i in result:\n",
    "    print(i)\n",
    "    "
   ]
  },
  {
   "cell_type": "code",
   "execution_count": 4,
   "id": "32104062",
   "metadata": {},
   "outputs": [
    {
     "name": "stdout",
     "output_type": "stream",
     "text": [
      "enter no of rows : 3\n",
      "enter no of columns : 5\n",
      "[[0 0 0 0 0]\n",
      " [0 1 2 3 4]\n",
      " [0 2 4 6 8]]\n"
     ]
    }
   ],
   "source": [
    "#prog_2\n",
    "\n",
    "import numpy\n",
    "i=int(input(\"enter no of rows : \"))\n",
    "j=int(input(\"enter no of columns : \"))\n",
    "\n",
    "matrix = numpy.ndarray(shape=(i,j),dtype=int)\n",
    "\n",
    "for m in range(i):\n",
    "    for n in range(j):\n",
    "        matrix[m][n] = m*n\n",
    "\n",
    "print(matrix)\n"
   ]
  },
  {
   "cell_type": "code",
   "execution_count": 21,
   "id": "b10041fc",
   "metadata": {},
   "outputs": [
    {
     "name": "stdout",
     "output_type": "stream",
     "text": [
      "enter comma seperated string : without,hello,bag,world\n",
      "['bag', 'hello', 'without', 'world']\n"
     ]
    }
   ],
   "source": [
    "# prog_3\n",
    "\n",
    "mystr = input(\"enter comma seperated string : \")\n",
    "\n",
    "lst=mystr.split(',')\n",
    "\n",
    "lst.sort()              \n",
    "\n",
    "print(lst)\n",
    "\n"
   ]
  },
  {
   "cell_type": "code",
   "execution_count": 22,
   "id": "8e77f750",
   "metadata": {},
   "outputs": [
    {
     "name": "stdout",
     "output_type": "stream",
     "text": [
      "enter space seperated string : hello world and pactice makes perfect and hello world again\n",
      "['perfect', 'again', 'hello', 'pactice', 'world', 'makes', 'and']\n"
     ]
    }
   ],
   "source": [
    "# prog_4\n",
    "\n",
    "mystr1 = input(\"enter space seperated string : \")\n",
    "\n",
    "lst1=mystr1.split(' ')\n",
    "\n",
    "rs=list(set(lst1))\n",
    "\n",
    "print(rs)\n",
    "\n",
    "\n"
   ]
  },
  {
   "cell_type": "code",
   "execution_count": 15,
   "id": "fd422a40",
   "metadata": {},
   "outputs": [
    {
     "name": "stdout",
     "output_type": "stream",
     "text": [
      "enter string : hello world! 123\n",
      "letters = 10 \n",
      "digits = 3\n"
     ]
    }
   ],
   "source": [
    "# prog_5\n",
    "\n",
    "mystr2 = input(\"enter string : \")\n",
    "\n",
    "letters=0\n",
    "digits=0\n",
    "for s in mystr2:\n",
    "    if s.isdigit():\n",
    "        \n",
    "        digits+=1\n",
    "    elif s.isalpha():\n",
    "        \n",
    "        letters+=1\n",
    "        \n",
    "    else:\n",
    "        pass\n",
    "\n",
    "print(\"letters = {} \\ndigits = {}\".format(letters,digits))"
   ]
  }
 ],
 "metadata": {
  "kernelspec": {
   "display_name": "Python 3 (ipykernel)",
   "language": "python",
   "name": "python3"
  },
  "language_info": {
   "codemirror_mode": {
    "name": "ipython",
    "version": 3
   },
   "file_extension": ".py",
   "mimetype": "text/x-python",
   "name": "python",
   "nbconvert_exporter": "python",
   "pygments_lexer": "ipython3",
   "version": "3.9.12"
  }
 },
 "nbformat": 4,
 "nbformat_minor": 5
}
